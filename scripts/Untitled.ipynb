{
 "cells": [
  {
   "cell_type": "code",
   "execution_count": 1,
   "id": "3bb97f8b-5ce2-405e-93cb-b74efbf80750",
   "metadata": {},
   "outputs": [],
   "source": [
    "from test_dataset_loader import Food101"
   ]
  },
  {
   "cell_type": "code",
   "execution_count": null,
   "id": "265c0af5-781f-4393-9f5c-dc3dea86d439",
   "metadata": {},
   "outputs": [],
   "source": []
  },
  {
   "cell_type": "code",
   "execution_count": 2,
   "id": "ced83064-4020-433c-950b-f6e7a421f1e3",
   "metadata": {},
   "outputs": [
    {
     "name": "stdout",
     "output_type": "stream",
     "text": [
      "_info\n"
     ]
    }
   ],
   "source": [
    "ds = Food101()"
   ]
  },
  {
   "cell_type": "code",
   "execution_count": 3,
   "id": "92127258-6717-44c3-9c2d-f2caef47e098",
   "metadata": {},
   "outputs": [
    {
     "name": "stdout",
     "output_type": "stream",
     "text": [
      "_split_generators\n"
     ]
    },
    {
     "ename": "TypeError",
     "evalue": "'NoneType' object is not iterable",
     "output_type": "error",
     "traceback": [
      "\u001b[1;31m---------------------------------------------------------------------------\u001b[0m",
      "\u001b[1;31mTypeError\u001b[0m                                 Traceback (most recent call last)",
      "Cell \u001b[1;32mIn [3], line 1\u001b[0m\n\u001b[1;32m----> 1\u001b[0m \u001b[38;5;28;01mfor\u001b[39;00m i \u001b[38;5;129;01min\u001b[39;00m \u001b[43mds\u001b[49m\u001b[38;5;241;43m.\u001b[39;49m\u001b[43mas_streaming_dataset\u001b[49m\u001b[43m(\u001b[49m\u001b[43m)\u001b[49m[\u001b[38;5;124m\"\u001b[39m\u001b[38;5;124mtrain\u001b[39m\u001b[38;5;124m\"\u001b[39m]:\n\u001b[0;32m      2\u001b[0m     \u001b[38;5;28mprint\u001b[39m(i)\n",
      "File \u001b[1;32m~\\anaconda3\\envs\\ibm-experiments\\lib\\site-packages\\datasets\\builder.py:1160\u001b[0m, in \u001b[0;36mDatasetBuilder.as_streaming_dataset\u001b[1;34m(self, split, base_path)\u001b[0m\n\u001b[0;32m   1153\u001b[0m dl_manager \u001b[38;5;241m=\u001b[39m StreamingDownloadManager(\n\u001b[0;32m   1154\u001b[0m     base_path\u001b[38;5;241m=\u001b[39mbase_path \u001b[38;5;129;01mor\u001b[39;00m \u001b[38;5;28mself\u001b[39m\u001b[38;5;241m.\u001b[39mbase_path,\n\u001b[0;32m   1155\u001b[0m     download_config\u001b[38;5;241m=\u001b[39mDownloadConfig(use_auth_token\u001b[38;5;241m=\u001b[39m\u001b[38;5;28mself\u001b[39m\u001b[38;5;241m.\u001b[39muse_auth_token),\n\u001b[0;32m   1156\u001b[0m     dataset_name\u001b[38;5;241m=\u001b[39m\u001b[38;5;28mself\u001b[39m\u001b[38;5;241m.\u001b[39mname,\n\u001b[0;32m   1157\u001b[0m     data_dir\u001b[38;5;241m=\u001b[39m\u001b[38;5;28mself\u001b[39m\u001b[38;5;241m.\u001b[39mconfig\u001b[38;5;241m.\u001b[39mdata_dir,\n\u001b[0;32m   1158\u001b[0m )\n\u001b[0;32m   1159\u001b[0m \u001b[38;5;28mself\u001b[39m\u001b[38;5;241m.\u001b[39m_check_manual_download(dl_manager)\n\u001b[1;32m-> 1160\u001b[0m splits_generators \u001b[38;5;241m=\u001b[39m {sg\u001b[38;5;241m.\u001b[39mname: sg \u001b[38;5;28;01mfor\u001b[39;00m sg \u001b[38;5;129;01min\u001b[39;00m \u001b[38;5;28mself\u001b[39m\u001b[38;5;241m.\u001b[39m_split_generators(dl_manager)}\n\u001b[0;32m   1161\u001b[0m \u001b[38;5;66;03m# By default, return all splits\u001b[39;00m\n\u001b[0;32m   1162\u001b[0m \u001b[38;5;28;01mif\u001b[39;00m split \u001b[38;5;129;01mis\u001b[39;00m \u001b[38;5;28;01mNone\u001b[39;00m:\n",
      "\u001b[1;31mTypeError\u001b[0m: 'NoneType' object is not iterable"
     ]
    }
   ],
   "source": [
    "for i in ds.as_streaming_dataset()[\"train\"]:\n",
    "    print(i)"
   ]
  }
 ],
 "metadata": {
  "kernelspec": {
   "display_name": "Python 3 (ipykernel)",
   "language": "python",
   "name": "python3"
  },
  "language_info": {
   "codemirror_mode": {
    "name": "ipython",
    "version": 3
   },
   "file_extension": ".py",
   "mimetype": "text/x-python",
   "name": "python",
   "nbconvert_exporter": "python",
   "pygments_lexer": "ipython3",
   "version": "3.8.15"
  }
 },
 "nbformat": 4,
 "nbformat_minor": 5
}
